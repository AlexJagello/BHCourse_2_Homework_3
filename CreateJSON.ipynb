{
 "cells": [
  {
   "cell_type": "code",
   "execution_count": 6,
   "metadata": {},
   "outputs": [],
   "source": [
    "text_from_file = open(\"resources/extract_flibusta_dialogues.txt\", encoding=\"utf8\")\n",
    "readed = text_from_file.read()"
   ]
  },
  {
   "cell_type": "code",
   "execution_count": 7,
   "metadata": {},
   "outputs": [],
   "source": [
    "dialogs = readed.split(\"\\n\\n\\n\")\n",
    "\n",
    "dialogs_frathes_splited = []\n",
    "for dialog in dialogs:\n",
    "    x = dialog.split(\"\\n\")\n",
    "    new_dialog = []\n",
    "    for phrase in x:\n",
    "        new_phrase = \"\"\n",
    "        if phrase.find('-')!=-1:\n",
    "            new_phrase=phrase.strip('-').strip('\\n').strip()\n",
    "            new_phrase = new_phrase.replace(',','')\n",
    "            last_letter = new_phrase[-1]\n",
    "            if last_letter == \"?\" or last_letter == \".\" or last_letter == \"!\":\n",
    "                new_phrase = new_phrase[:-1] + \" \" + last_letter\n",
    "            new_dialog.append(new_phrase)\n",
    "    dialogs_frathes_splited.append(new_dialog)\n",
    "\n"
   ]
  },
  {
   "cell_type": "code",
   "execution_count": 8,
   "metadata": {},
   "outputs": [],
   "source": [
    "dialogs_frathes_splited = dialogs_frathes_splited[:20000]"
   ]
  },
  {
   "cell_type": "code",
   "execution_count": 9,
   "metadata": {},
   "outputs": [],
   "source": [
    "import json \n",
    "class Intent:\n",
    "    def __init__(self, tag, patterns, responses): \n",
    "        self.tag = tag\n",
    "        self.patterns = patterns\n",
    "        self.responses = responses\n",
    "\n",
    "    def toJson(self):\n",
    "        return json.dumps(self, default=lambda o: o.__dict__, ensure_ascii=False)\n",
    "\n",
    "class Intents:\n",
    "     def __init__(self, intents):\n",
    "         self.intents = intents\n",
    "         \n",
    "     def toJson(self):\n",
    "        return json.dumps(self, default=lambda o: o.__dict__, ensure_ascii=False)\n",
    "\n",
    "intents = []\n",
    "for ind,dialog in enumerate(dialogs_frathes_splited):\n",
    "    try:\n",
    "        tag = dialog[0].split(' ')[0] + ind.__str__()\n",
    "        patterns = dialog[0::2]\n",
    "        responses = dialog[1::2]\n",
    "\n",
    "        intents.append(Intent(tag, patterns, responses))\n",
    "    except:\n",
    "        print(dialog)\n",
    "\n",
    "\n",
    "ntnt = Intents(intents)\n",
    "jsn = ntnt.toJson() \n",
    "\n",
    "with open('intents.json', 'w', encoding='utf-8') as f:\n",
    "    f.write(jsn)"
   ]
  },
  {
   "cell_type": "code",
   "execution_count": null,
   "metadata": {},
   "outputs": [],
   "source": []
  }
 ],
 "metadata": {
  "kernelspec": {
   "display_name": ".venv",
   "language": "python",
   "name": "python3"
  },
  "language_info": {
   "codemirror_mode": {
    "name": "ipython",
    "version": 3
   },
   "file_extension": ".py",
   "mimetype": "text/x-python",
   "name": "python",
   "nbconvert_exporter": "python",
   "pygments_lexer": "ipython3",
   "version": "3.10.0"
  }
 },
 "nbformat": 4,
 "nbformat_minor": 2
}
